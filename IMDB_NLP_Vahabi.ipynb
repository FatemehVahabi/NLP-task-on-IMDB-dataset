{
 "cells": [
  {
   "cell_type": "markdown",
   "id": "656f7ad9-643c-420e-b20d-176a50dbcf40",
   "metadata": {
    "id": "656f7ad9-643c-420e-b20d-176a50dbcf40"
   },
   "source": [
    "# 2"
   ]
  },
  {
   "cell_type": "markdown",
   "id": "b6e810dc-bd5c-4446-be03-22d0c1a3026a",
   "metadata": {
    "id": "b6e810dc-bd5c-4446-be03-22d0c1a3026a"
   },
   "source": [
    "## 2.1"
   ]
  },
  {
   "cell_type": "markdown",
   "id": "27f8d510-8998-4330-91da-02933ac8485d",
   "metadata": {},
   "source": [
    "### Solution Without Tree"
   ]
  },
  {
   "cell_type": "markdown",
   "id": "00f89a1b-4686-4001-abab-0787ba537477",
   "metadata": {},
   "source": [
    "This code defines a function is_question that takes a sentence as input and returns a Boolean value indicating whether the sentence is a question or not. The function works by first tokenizing the sentence into individual words using the nltk.word_tokenize function.\n",
    "\n",
    "It then checks if the first word of the sentence is one of a predefined list of question words , and if the sentence ends with a question mark. If both of these conditions are true, the function returns True to indicate that the sentence is a question. Otherwise, it returns False to indicate that the sentence is not a question.\n",
    "\n",
    "The code also defines a list of example sentences, and loops over each sentence, calling the is_question function to determine if it is a question or not. If the sentence is a question, it is printed along with the message \"The sentence is a question.\" If the sentence is not a question, it is printed along with the message \"The sentence is not a question.\"\n"
   ]
  },
  {
   "cell_type": "code",
   "execution_count": 125,
   "id": "0c000146-b9bd-4d82-9e2c-fd1dd4ccb1e5",
   "metadata": {
    "colab": {
     "base_uri": "https://localhost:8080/"
    },
    "id": "0c000146-b9bd-4d82-9e2c-fd1dd4ccb1e5",
    "outputId": "4acaa1e3-ba47-46b4-d234-afbd30778f0f"
   },
   "outputs": [
    {
     "name": "stdout",
     "output_type": "stream",
     "text": [
      "Do androids dream of electric sheep?\n",
      "The sentence is a question.\n",
      "How many androids escaped this time?\n",
      "The sentence is a question.\n",
      "Will have difficulty understanding how you happened to let us void your testing apparatus before the test began.\n",
      "The sentence is not a question.\n",
      "This time was different.\n",
      "The sentence is not a question.\n",
      "This has happened before.\n",
      "The sentence is not a question.\n"
     ]
    },
    {
     "name": "stderr",
     "output_type": "stream",
     "text": [
      "[nltk_data] Downloading package punkt to\n",
      "[nltk_data]     C:\\Users\\BiG\\AppData\\Roaming\\nltk_data...\n",
      "[nltk_data]   Package punkt is already up-to-date!\n"
     ]
    }
   ],
   "source": [
    "import nltk\n",
    "nltk.download('punkt')\n",
    "def is_question(sentence):\n",
    "    tokens = nltk.word_tokenize(sentence)\n",
    "    first_word = tokens[0].lower() if tokens else \"\"\n",
    "    question_words = [\"what\", \"who\", \"how\", \"when\", \"where\", \"why\", \"which\", \"is\", \"are\", \"do\", \"does\",\n",
    "                      \"can\", \"could\", \"would\", \"will\", \"did\", \"should\", \"may\", \"might\"]\n",
    "    if first_word in question_words and sentence.endswith('?'):\n",
    "        return True\n",
    "    return False\n",
    "\n",
    "sentence = ['Do androids dream of electric sheep?','How many androids escaped this time?',\n",
    "            'Will have difficulty understanding how you happened to let us void your testing apparatus before the test began.',\n",
    "            'This time was different.','This has happened before.']\n",
    "for s in sentence:\n",
    "    if is_question(s):\n",
    "        print(s)\n",
    "        print(\"The sentence is a question.\")\n",
    "    else:\n",
    "        print(s)\n",
    "        print(\"The sentence is not a question.\")\n"
   ]
  },
  {
   "cell_type": "markdown",
   "id": "04b4e528-6833-4af7-9de1-ad2e3e0b3fb8",
   "metadata": {},
   "source": [
    "### Solution With Tree"
   ]
  },
  {
   "cell_type": "markdown",
   "id": "0eeb1c76-2b3c-4b82-a0a3-feeaa34edc43",
   "metadata": {},
   "source": [
    "This code uses the Stanford Parser (a natural language parser developed by Stanford University) to analyze a list of example sentences and classify them as questions or not.\n",
    "\n",
    "The code first sets the paths to the Stanford Parser and model jars on the local file system, and initializes the parser with these jar paths using the stanford.StanfordParser function from the NLTK library.\n",
    "\n",
    "It then defines a list of example sentences, and loops over each sentence. For each sentence, the code uses the parser.raw_parse function to parse the sentence and generate a parse tree. The list and [0] are used to extract the first (and only) tree from the list returned by parser.raw_parse.\n",
    "\n",
    "The code then checks if the sentence is a question by examining the label of the root node of the parse tree. Specifically, it checks if the label is either 'SBARQ' (for subordinate clause question) or 'SQ' (for simple question). If the label matches either of these values, the code sets is_question to True. Otherwise, it sets is_question to False.\n",
    "\n",
    "Finally, the code prints the original sentence, along with a Boolean value indicating whether the sentence is a question or not. It also draws the parse tree using the ParentedTree.convert and tree.pretty_print functions from the NLTK library.\n",
    "\n"
   ]
  },
  {
   "cell_type": "code",
   "execution_count": 124,
   "id": "1c014df1-505b-4925-a3d2-8a27cc12d257",
   "metadata": {},
   "outputs": [
    {
     "name": "stderr",
     "output_type": "stream",
     "text": [
      "C:\\Users\\BiG\\AppData\\Local\\Temp\\ipykernel_12260\\3967323798.py:10: DeprecationWarning: The StanfordParser will be deprecated\n",
      "Please use \u001b[91mnltk.parse.corenlp.CoreNLPParser\u001b[0m instead.\n",
      "  parser = stanford.StanfordParser(path_to_jar=stanford_parser_jar, path_to_models_jar=stanford_model_jar)\n"
     ]
    },
    {
     "name": "stdout",
     "output_type": "stream",
     "text": [
      "Sentence: Do androids dream of electric sheep?\n",
      "Is question: True\n",
      "                   ROOT                           \n",
      "                    |                              \n",
      "                    SQ                            \n",
      "  __________________|___________________________   \n",
      " |     |                 VP                     | \n",
      " |     |        _________|_____                 |  \n",
      " |     |       |               PP               | \n",
      " |     |       |     __________|______          |  \n",
      " |     NP      |    |                 NP        | \n",
      " |     |       |    |           ______|____     |  \n",
      "VBP   NNS      VB   IN         JJ          NN   . \n",
      " |     |       |    |          |           |    |  \n",
      " Do androids dream  of      electric     sheep  ? \n",
      "\n",
      "\n",
      "\n",
      "Sentence: How many androids escaped this time?\n",
      "Is question: True\n",
      "                           ROOT                       \n",
      "                            |                          \n",
      "                          SBARQ                       \n",
      "       _____________________|_______________________   \n",
      "      |                           SQ                | \n",
      "      |             ______________|___              |  \n",
      "      |            |                  VP            | \n",
      "      |            |         _________|____         |  \n",
      "    WHADJP         NP       |              NP       | \n",
      "  ____|_____       |        |          ____|___     |  \n",
      "WRB         JJ    NNS      VBD        DT       NN   . \n",
      " |          |      |        |         |        |    |  \n",
      "How        many androids escaped     this     time  ? \n",
      "\n",
      "\n",
      "\n",
      "Sentence: Will have difficulty understanding how you happened to let us void your testing apparatus before the test began.\n",
      "Is question: False\n",
      "                                                                    ROOT                                                           \n",
      "                                                                     |                                                              \n",
      "                                                                     S                                                             \n",
      "  ___________________________________________________________________|___________________________________________________________   \n",
      " |            VP                                                                                                                 | \n",
      " |     _______|________________                                                                                                  |  \n",
      " |    |                        NP                                                                                                | \n",
      " |    |                ________|_______________                                                                                  |  \n",
      " |    |               |                       SBAR                                                                               | \n",
      " |    |               |                   _____|______                                                                           |  \n",
      " |    |               |                  |            S                                                                          | \n",
      " |    |               |                  |      ______|______                                                                    |  \n",
      " |    |               |                  |     |             VP                                                                  | \n",
      " |    |               |                  |     |       ______|___                                                                |  \n",
      " |    |               |                  |     |      |          S                                                               | \n",
      " |    |               |                  |     |      |          |                                                               |  \n",
      " |    |               |                  |     |      |          VP                                                              | \n",
      " |    |               |                  |     |      |       ___|___                                                            |  \n",
      " |    |               |                  |     |      |      |       VP                                                          | \n",
      " |    |               |                  |     |      |      |    ___|_________                                                  |  \n",
      " |    |               |                  |     |      |      |   |             S                                                 | \n",
      " |    |               |                  |     |      |      |   |    _________|_______________                                  |  \n",
      " |    |               |                  |     |      |      |   |   |                         VP                                | \n",
      " |    |               |                  |     |      |      |   |   |     ____________________|_________________                |  \n",
      " |    |               |                  |     |      |      |   |   |    |           |                         SBAR             | \n",
      " |    |               |                  |     |      |      |   |   |    |           |                 _________|____           |  \n",
      " |    |               |                  |     |      |      |   |   |    |           |                |              S          | \n",
      " |    |               |                  |     |      |      |   |   |    |           |                |          ____|_____     |  \n",
      " NP   |               NP               WHADVP  NP     |      |   |   NP   |           NP               |         NP         VP   | \n",
      " |    |        _______|________          |     |      |      |   |   |    |     ______|________        |      ___|____      |    |  \n",
      "NNP  VBP      NN               NN       WRB   PRP    VBD     TO  VB PRP   VB  PRP$    NN       NN      IN    DT       NN   VBD   . \n",
      " |    |       |                |         |     |      |      |   |   |    |    |      |        |       |     |        |     |    |  \n",
      "Will have difficulty     understanding  how   you  happened  to let  us  void your testing apparatus before the      test began  . \n",
      "\n",
      "\n",
      "\n",
      "Sentence: This time was different.\n",
      "Is question: False\n",
      "              ROOT                  \n",
      "               |                     \n",
      "               S                    \n",
      "       ________|__________________   \n",
      "      |             VP            | \n",
      "      |         ____|______       |  \n",
      "      NP       |          ADJP    | \n",
      "  ____|___     |           |      |  \n",
      " DT       NN  VBD          JJ     . \n",
      " |        |    |           |      |  \n",
      "This     time was      different  . \n",
      "\n",
      "\n",
      "\n",
      "Sentence: This has happened before.\n",
      "Is question: False\n",
      "           ROOT                 \n",
      "            |                    \n",
      "            S                   \n",
      "  __________|_________________   \n",
      " |          VP                | \n",
      " |     _____|______           |  \n",
      " |    |            VP         | \n",
      " |    |      ______|____      |  \n",
      " NP   |     |          ADVP   | \n",
      " |    |     |           |     |  \n",
      " DT  VBZ   VBN          RB    . \n",
      " |    |     |           |     |  \n",
      "This has happened     before  . \n",
      "\n",
      "\n",
      "\n"
     ]
    }
   ],
   "source": [
    "import nltk\n",
    "from nltk.parse import stanford\n",
    "from nltk.tree import ParentedTree\n",
    "\n",
    "# set the paths to the Stanford parser and model jars\n",
    "stanford_parser_jar = 'F:/arshad/Libs/stanford-parser-full-2013-06-20/stanford-parser-full-2013-06-20/stanford-parser.jar'\n",
    "stanford_model_jar = 'F:/arshad/Libs/stanford-parser-full-2013-06-20/stanford-parser-full-2013-06-20/stanford-parser-3.2.0-models.jar'\n",
    "# initialize the parser with the jar paths\n",
    "parser = stanford.StanfordParser(path_to_jar=stanford_parser_jar, path_to_models_jar=stanford_model_jar)\n",
    "sentences = ['Do androids dream of electric sheep?',\n",
    "             'How many androids escaped this time?',\n",
    "             'Will have difficulty understanding how you happened to let us void your testing apparatus before the test began.',\n",
    "             'This time was different.',\n",
    "             'This has happened before.']\n",
    "\n",
    "for sentence in sentences:\n",
    "    result = list(parser.raw_parse(sentence))[0]\n",
    "    is_question = (result[0].label() == 'SBARQ' or result[0].label() == 'SQ')\n",
    "    print('Sentence:', sentence)\n",
    "    print('Is question:', is_question)\n",
    "    # draw the parse tree\n",
    "    tree = ParentedTree.convert(result)\n",
    "    tree.pretty_print()\n",
    "    print('\\n')"
   ]
  },
  {
   "cell_type": "markdown",
   "id": "fe55cf55-0e74-420b-b897-7f4992a2c0db",
   "metadata": {
    "id": "fe55cf55-0e74-420b-b897-7f4992a2c0db"
   },
   "source": [
    "## 2.2.1"
   ]
  },
  {
   "cell_type": "code",
   "execution_count": 5,
   "id": "e07b2978-9dd2-4dee-be4e-22f5680cfb2d",
   "metadata": {
    "id": "e07b2978-9dd2-4dee-be4e-22f5680cfb2d"
   },
   "outputs": [
    {
     "name": "stderr",
     "output_type": "stream",
     "text": [
      "WARNING: Ignoring invalid distribution -rotobuf (c:\\users\\big\\anaconda3\\lib\\site-packages)\n",
      "WARNING: Ignoring invalid distribution -rotobuf (c:\\users\\big\\anaconda3\\lib\\site-packages)\n"
     ]
    }
   ],
   "source": [
    "!pip install portalocker>=2.0.0\n"
   ]
  },
  {
   "cell_type": "code",
   "execution_count": 13,
   "id": "c1dfde84-6828-4d59-8f4a-5b265bd4fd07",
   "metadata": {
    "colab": {
     "base_uri": "https://localhost:8080/"
    },
    "id": "9bb46f77",
    "outputId": "a8f3baf5-4571-41b5-d2b6-0dc0df1727b1"
   },
   "outputs": [],
   "source": [
    "from torchtext.datasets import IMDB\n",
    "import random\n",
    "import pandas as pd"
   ]
  },
  {
   "cell_type": "markdown",
   "id": "c94d03ea-95c9-4533-b3d5-0e7fc883f58c",
   "metadata": {},
   "source": [
    "This code select half of the dataset randomly."
   ]
  },
  {
   "cell_type": "code",
   "execution_count": 35,
   "id": "01af904a-2823-4efe-b72c-46780f4a3e4c",
   "metadata": {
    "colab": {
     "base_uri": "https://localhost:8080/"
    },
    "id": "9bb46f77",
    "outputId": "a8f3baf5-4571-41b5-d2b6-0dc0df1727b1"
   },
   "outputs": [],
   "source": [
    "train_iter = IMDB(split='train')\n",
    "test_iter = IMDB(split='test')\n",
    "\n",
    "# Convert the iterators to lists for easier manipulation\n",
    "train_data = list(train_iter)\n",
    "test_data = list(test_iter)\n",
    "\n",
    "# Randomly remove half of the dataset\n",
    "random.shuffle(train_data)\n",
    "random.shuffle(test_data)\n",
    "#half_train_data = train_data[:len(train_data) // 100]\n",
    "#half_test_data = test_data[:len(test_data) // 100]\n",
    "\n",
    "half_train_data = train_data[:1000]\n",
    "half_test_data = test_data[:1000]"
   ]
  },
  {
   "cell_type": "markdown",
   "id": "c4db04b9-1c46-4df5-8511-1d629f106a6c",
   "metadata": {},
   "source": [
    "Turn the data into dataframe"
   ]
  },
  {
   "cell_type": "code",
   "execution_count": 42,
   "id": "d2bdf41e-3f61-4142-a52c-c257836bda42",
   "metadata": {
    "colab": {
     "base_uri": "https://localhost:8080/"
    },
    "id": "9bb46f77",
    "outputId": "a8f3baf5-4571-41b5-d2b6-0dc0df1727b1"
   },
   "outputs": [
    {
     "name": "stdout",
     "output_type": "stream",
     "text": [
      "                                               comment  label\n",
      "0    As we all know the sub-genre of sex comedies i...      2\n",
      "1    absolutely trash. i liked Halloween and from t...      1\n",
      "2    I was just a bit young for this one, but I had...      2\n",
      "3    Based on Elmore Leonard, this is a violent and...      2\n",
      "4    I watched the DVD of this movie which also com...      2\n",
      "..                                                 ...    ...\n",
      "995  The movie that shoots scenes of a scenic caver...      1\n",
      "996  A common plotline in films consists of the mai...      2\n",
      "997  This episode of Twilight Zone combines a silen...      2\n",
      "998  Gabe Ryan (Frankie Thomas) gets out of reform ...      2\n",
      "999  Truly terrible, pretentious, endless film. Dir...      1\n",
      "\n",
      "[1000 rows x 2 columns]\n"
     ]
    }
   ],
   "source": [
    "label=[]\n",
    "comment=[]\n",
    "# Print the remaining data\n",
    "for l, line in half_train_data:\n",
    "    label.append(l)\n",
    "    comment.append(line)\n",
    "\n",
    "# Create a dictionary from the lists\n",
    "data = {'comment': comment, 'label': label}\n",
    "\n",
    "# Convert dictionary to DataFrame\n",
    "df = pd.DataFrame(data)\n",
    "\n",
    "# Print the DataFrame\n",
    "print(df)"
   ]
  },
  {
   "cell_type": "code",
   "execution_count": null,
   "id": "tHTMZhqis_Lv",
   "metadata": {
    "id": "tHTMZhqis_Lv"
   },
   "outputs": [],
   "source": []
  },
  {
   "cell_type": "markdown",
   "id": "ef54c25e-9ce2-4da0-8a4d-b670aed43bf4",
   "metadata": {
    "id": "StKXRl-4s3c-"
   },
   "source": [
    "## 2.2.2"
   ]
  },
  {
   "cell_type": "markdown",
   "id": "600c4dae-5038-4e8b-b714-d4771cc40a65",
   "metadata": {
    "id": "TReXBlB40Glw"
   },
   "source": [
    "This Python code demonstrates how to preprocess text data and extract features using the Term Frequency-Inverse Document Frequency (TF-IDF) method.\n",
    "\n",
    "The code first imports the necessary libraries, including pandas for data manipulation, re for regular expressions, NLTK for text processing, and scikit-learn's TfidfVectorizer for feature extraction.\n",
    "\n",
    "The code then defines a function called preprocess_text that takes a text string as input and performs several text preprocessing steps. These steps include removing HTML tags, converting the text to lowercase, removing numbers, removing punctuation and special characters, tokenizing the text into individual words, removing stop words (common words like \"the\", \"and\", \"a\", etc.), and returning the tokenized text as a list.\n",
    "\n",
    "Next, the code applies the preprocess_text function to the 'comment' column of a pandas DataFrame called 'df', which contains the text data to be processed. This step tokenizes each comment and removes stop words and other unwanted words.\n",
    "\n",
    "The code then flattens the tokenized comments into a single list, counts the frequency of each token using the Counter function, and gets the set of words that occur in only one row (i.e., unique words). It then removes the unique words from each comment in the 'comment' column of 'df'.\n",
    "\n",
    "After removing the unique words, the code joins the remaining tokens back into a single string for each comment using the 'join' function.\n",
    "\n",
    "Finally, the code vectorizes the preprocessed text using the TF-IDF method by creating an instance of the TfidfVectorizer class, fitting it to the 'comment' column of 'df', and transforming the data into a matrix of TF-IDF vectors. However, this step has been commented out in the code by using a '#' symbol at the beginning of the lines, as it requires uncommenting and might take a long time to run on large datasets.\n",
    "\n",
    "The code then prints the preprocessed data by iterating over each comment in the 'comment' column of 'df' and printing it. It also prints the TF-IDF vectors, which are the features extracted from the preprocessed text data.\n",
    "\n"
   ]
  },
  {
   "cell_type": "code",
   "execution_count": 127,
   "id": "6ef2d1a8",
   "metadata": {
    "colab": {
     "base_uri": "https://localhost:8080/"
    },
    "id": "6ef2d1a8",
    "outputId": "83857ce0-ce8e-432e-d670-ad78fa774bd5"
   },
   "outputs": [
    {
     "name": "stderr",
     "output_type": "stream",
     "text": [
      "[nltk_data] Downloading package stopwords to\n",
      "[nltk_data]     C:\\Users\\BiG\\AppData\\Roaming\\nltk_data...\n",
      "[nltk_data]   Package stopwords is already up-to-date!\n"
     ]
    },
    {
     "name": "stdout",
     "output_type": "stream",
     "text": [
      "comments Preprocessed!\n"
     ]
    }
   ],
   "source": [
    "import pandas as pd\n",
    "import re\n",
    "from nltk.corpus import stopwords\n",
    "from nltk.tokenize import word_tokenize\n",
    "from collections import Counter\n",
    "from sklearn.feature_extraction.text import TfidfVectorizer\n",
    "\n",
    "# Load the dataset\n",
    "nltk.download('stopwords')\n",
    "\n",
    "# Preprocessing steps\n",
    "def preprocess_text(text):\n",
    "    # Remove HTML tags\n",
    "    text = re.sub('<.*?>', '', text)\n",
    "\n",
    "    # Convert to lowercase\n",
    "    text = text.lower()\n",
    "\n",
    "    # Remove numbers\n",
    "    text = re.sub(r'\\d+', '', text)\n",
    "\n",
    "    # Remove punctuation and special characters\n",
    "    text = re.sub('[^\\w\\s]', '', text)\n",
    "\n",
    "    # Tokenize the text\n",
    "    tokens = word_tokenize(text)\n",
    "\n",
    "    # Remove stopwords\n",
    "    stop_words = set(stopwords.words('english'))\n",
    "    filtered_tokens = [token for token in tokens if token not in stop_words]\n",
    "\n",
    "    return filtered_tokens\n",
    "\n",
    "# Apply preprocessing to the 'comment' column\n",
    "df['comment'] = df['comment'].apply(preprocess_text)\n",
    "\n",
    "# Flatten the tokenized comments into a single list\n",
    "all_tokens = [token for comment in df['comment'] for token in comment]\n",
    "\n",
    "# Count the frequency of each token\n",
    "word_counts = Counter(all_tokens)\n",
    "\n",
    "# Get the set of words that occur in only one row\n",
    "unique_words = set(word for word, count in word_counts.items() if count == 1)\n",
    "\n",
    "# Remove the unique words from each comment\n",
    "df['comment'] = df['comment'].apply(lambda x: [token for token in x if token not in unique_words])\n",
    "\n",
    "# Join the tokens back into a single string\n",
    "df['comment'] = df['comment'].apply(lambda x: ' '.join(x))\n",
    "\n",
    "# Vectorize the preprocessed text using TF-IDF\n",
    "#vectorizer = TfidfVectorizer()\n",
    "#X = vectorizer.fit_transform(df['comment'])\n",
    "\n",
    "# Print the preprocessed data\n",
    "print(\"comments Preprocessed!\")\n",
    "\n",
    "\n"
   ]
  },
  {
   "cell_type": "markdown",
   "id": "e0kjm1KIvC3H",
   "metadata": {
    "id": "e0kjm1KIvC3H"
   },
   "source": [
    "بله، حذف کردن واژگانی که تنها در یک نظر اتفاق افتاده‌اند ممکن است به پروسه دسته‌بندی کمک کند. این فرایند به عنوان \"حذف واژگان کم اهمیت\" یا \"حذف واژگان با تکرار پایین\" شناخته می‌شود.\n",
    "\n",
    "واژگانی که در داده‌های آموزشی کمتر تکرار شده‌اند، معمولاً اطلاعات کمتری راجع به موضوع نظرات دارند و برای دسته‌بندی صحیح نظرات ممکن است کمک نکنند. این واژگان می‌توانند تصادفی یا نادر باشند و به دلیل خصوصیات منحصر به فرد یک نظر خاص، در سایر نظرات تکرار نشوند.\n",
    "\n",
    "با حذف این واژگان کمتر تکرار شده، می‌توانید حجم داده‌ها را کاهش داده و در نتیجه زمان و منابع مورد نیاز برای پردازش داده‌ها را نیز کاهش دهید. علاوه بر این، حذف واژگان با تکرار پایین می‌تواند بهبود عملکرد دسته‌بندی را نیز در پروسه‌های مانند تحلیل احساسات یا دسته‌بندی موضوعات بر روی داده‌ها ایجاد کند"
   ]
  },
  {
   "cell_type": "markdown",
   "id": "a68c568d-b04a-4b54-b553-03501560c5ab",
   "metadata": {
    "id": "MelCAcyXzmAz"
   },
   "source": [
    "## 2.2.3"
   ]
  },
  {
   "cell_type": "markdown",
   "id": "109a427b-c7d2-4cb5-872a-3a00d59dbab1",
   "metadata": {},
   "source": [
    "بخش 3 پیاده سازی ندارد. با این حال من این مراحل را پیاده سازی کردم تا برای بخش های بعد اماده باشد."
   ]
  },
  {
   "cell_type": "markdown",
   "id": "723cee2a-b52d-4e62-8774-63e5325a0177",
   "metadata": {},
   "source": [
    "This code uses scikit-learn's CountVectorizer to convert a list of comments into binary bag-of-words (BOW) vectors.\n",
    "\n",
    "The code first imports the CountVectorizer class from the sklearn.feature_extraction.text module, and gets a list of comments from the 'comment' column of a pandas DataFrame called 'df'.\n",
    "\n",
    "The code then creates an instance of CountVectorizer and sets the binary parameter to True. This means that the resulting BOW vectors will use binary encoding, where each element of the vector is either 0 or 1 depending on whether the corresponding word appears in the comment or not.\n",
    "\n",
    "Next, the code fits the vectorizer to the list of comments using the fit_transform method, which converts the comments into a matrix of BOW vectors.\n",
    "\n",
    "The code then gets the feature names (i.e., the words) from the vectorizer's vocabulary using the keys method.\n",
    "\n",
    "Finally, the code converts the BOW vectors to a 2D array using the toarray method."
   ]
  },
  {
   "cell_type": "code",
   "execution_count": 128,
   "id": "CYiLDs--WSzv",
   "metadata": {
    "id": "CYiLDs--WSzv"
   },
   "outputs": [],
   "source": [
    "from sklearn.feature_extraction.text import CountVectorizer\n",
    "comments = df['comment'].tolist()\n",
    "\n",
    "# Create an instance of CountVectorizer\n",
    "vectorizer = CountVectorizer(binary=True)\n",
    "\n",
    "# Fit and transform the comments using one-hot encoding\n",
    "one_hot_vectors = vectorizer.fit_transform(comments)\n",
    "\n",
    "# Get the feature names (words) from the vectorizer\n",
    "feature_names = vectorizer.vocabulary_.keys()\n",
    "BOW_vectors=one_hot_vectors.toarray()"
   ]
  },
  {
   "cell_type": "markdown",
   "id": "508ece47-ff57-437e-99e1-6a618eeb7766",
   "metadata": {},
   "source": [
    "import numpy as np\n",
    "import tensorflow as tf\n",
    "\n",
    "# Define the Word2Vec class\n",
    "class Word2Vec:\n",
    "    def __init__(self, vocabulary_size, embedding_size, window_size):\n",
    "        self.embedding_size = embedding_size\n",
    "        self.window_size = window_size\n",
    "\n",
    "        # Define the inputs and outputs of the Word2Vec model\n",
    "        self.x = tf.keras.Input(shape=(None, vocabulary_size))\n",
    "        self.y = tf.keras.Input(shape=(vocabulary_size,))\n",
    "\n",
    "        # Define the weights for the hidden layer and output layer\n",
    "        self.w1 = tf.Variable(tf.random.uniform([vocabulary_size, embedding_size], -1.0, 1.0))\n",
    "        self.b1 = tf.Variable(tf.zeros([embedding_size]))\n",
    "        self.w2 = tf.Variable(tf.random.uniform([embedding_size, vocabulary_size], -1.0, 1.0))\n",
    "        self.b2 = tf.Variable(tf.zeros([vocabulary_size]))\n",
    "\n",
    "        # Define the forward pass of the Word2Vec model\n",
    "        embedded_word = tf.matmul(self.x, self.w1)\n",
    "        hidden_layer = tf.nn.relu(tf.matmul(embedded_word, self.w2) + self.b1)\n",
    "        output_layer = tf.matmul(hidden_layer, self.w2) + self.b2\n",
    "\n",
    "        # Define the loss function and optimizer\n",
    "        self.loss = tf.reduce_mean(tf.nn.softmax_cross_entropy_with_logits(labels=self.y, logits=output_layer))\n",
    "        self.optimizer = tf.optimizers.Adam()\n",
    "\n",
    "        # Define the training operation\n",
    "        self.train_op = self.optimizer.minimize(self.loss)\n",
    "\n",
    "        # Define the function to retrieve the learned embeddings\n",
    "        self.embeddings = self.w1\n",
    "\n",
    "    def train(self, one_hot_vectors, num_epochs, batch_size):\n",
    "        # Train the Word2Vec model\n",
    "        for epoch in range(num_epochs):\n",
    "            for i in range(0, len(one_hot_vectors), batch_size):\n",
    "                batch_x = one_hot_vectors[i:i+batch_size, 0]\n",
    "                batch_y = one_hot_vectors[i:i+batch_size, 1]\n",
    "                loss, _ = tf.keras.backend.get_session().run([self.loss, self.train_op], feed_dict={self.x: batch_x, self.y: batch_y})\n",
    "            if epoch % 10 == 0:\n",
    "                print(\"Epoch:\", epoch, \", Loss:\", loss)\n",
    "\n",
    "# Define the training data\n",
    "corpus = [\"the\", \"quick\", \"brown\", \"fox\", \"jumped\", \"over\", \"the\", \"lazy\", \"dog\"]\n",
    "vocabulary = set(corpus)\n",
    "word2idx = {word: idx for idx, word in enumerate(vocabulary)}\n",
    "\n",
    "# Define the hyperparameters\n",
    "vocabulary_size = len(vocabulary)\n",
    "embedding_size = 300\n",
    "window_size = 2\n",
    "num_epochs = 100\n",
    "batch_size = 32\n",
    "\n",
    "# Convert the corpus to one-hot vectors\n",
    "one_hot_vectors = []\n",
    "for i in range(window_size, len(corpus) - window_size):\n",
    "    center_word = corpus[i]\n",
    "    context_words = corpus[i-window_size:i] + corpus[i+1:i+window_size+1]\n",
    "    center_word_vec = np.zeros(vocabulary_size)\n",
    "    center_word_vec[word2idx[center_word]] = 1\n",
    "    context_word_vecs = [np.zeros(vocabulary_size) for _ in range(2*window_size)]\n",
    "    for j, word in enumerate(context_words):\n",
    "        context_word_vecs[j][word2idx[word]] = 1\n",
    "    one_hot_vectors.append((center_word_vec, context_word_vecs))\n",
    "one_hot_vectors = np.array(one_hot_vectors)\n",
    "\n",
    "# Create an instance of the Word2Vec class\n",
    "w2v = Word2Vec(vocabulary_size, embedding_size, window_size)\n",
    "\n",
    "# Train the Word2Vec model\n",
    "w2v.train(one_hot_vectors, num_epochs, batch_size)\n",
    "\n",
    "# Retrieve the learned embeddings\n",
    "embeddings = w2v.embeddings\n",
    "\n",
    "# Print the embedding for a sample word\n",
    "print(embeddings[word2idx['the']])"
   ]
  },
  {
   "cell_type": "markdown",
   "id": "f0e4c78a-4238-4954-acb0-d6ca000dd1b5",
   "metadata": {
    "id": "kFaHIgIxtwK7"
   },
   "source": [
    "## 2.2.4"
   ]
  },
  {
   "cell_type": "markdown",
   "id": "a9436a0a-8215-4459-9f46-1ec4e02be8df",
   "metadata": {},
   "source": [
    "This code demonstrates how to perform K-means clustering on a matrix of bag-of-words (BOW) vectors and visualize the results using dimensionality reduction and scatter plots.\n",
    "\n",
    "The code first imports the necessary libraries, including KMeans from sklearn.cluster for performing K-means clustering, PCA from sklearn.decomposition for dimensionality reduction, and matplotlib.pyplot for visualization.\n",
    "\n",
    "The code then initializes K-means with the desired number of clusters (in this case, 7) and fits it to the matrix of BOW vectors using the fit method.\n",
    "\n",
    "Next, the code gets the cluster labels assigned to each vector using the labels_ attribute of the KMeans object.\n",
    "\n",
    "The code then reduces the dimensionality of the BOW vectors to 2 using PCA, which is a common technique for visualizing high-dimensional data. The reduced features are obtained using the fit_transform method of PCA on the BOW vectors.\n",
    "\n",
    "Finally, the code plots the clusters using a scatter plot of the reduced features, where each point represents a BOW vector and is colored according to its assigned cluster label. The plot is labeled with the principal component axes and a title."
   ]
  },
  {
   "cell_type": "code",
   "execution_count": 131,
   "id": "Cc_RLAvJ3jB_",
   "metadata": {
    "colab": {
     "base_uri": "https://localhost:8080/",
     "height": 246
    },
    "id": "Cc_RLAvJ3jB_",
    "outputId": "f9f22e3f-22fb-46f4-a57c-c5157c8693bf"
   },
   "outputs": [
    {
     "name": "stderr",
     "output_type": "stream",
     "text": [
      "C:\\Users\\BiG\\anaconda3\\lib\\site-packages\\sklearn\\cluster\\_kmeans.py:870: FutureWarning: The default value of `n_init` will change from 10 to 'auto' in 1.4. Set the value of `n_init` explicitly to suppress the warning\n",
      "  warnings.warn(\n",
      "C:\\Users\\BiG\\anaconda3\\lib\\site-packages\\sklearn\\cluster\\_kmeans.py:1382: UserWarning: KMeans is known to have a memory leak on Windows with MKL, when there are less chunks than available threads. You can avoid it by setting the environment variable OMP_NUM_THREADS=4.\n",
      "  warnings.warn(\n"
     ]
    },
    {
     "data": {
      "image/png": "[encoded data removed]",
      "text/plain": [
       "<Figure size 640x480 with 1 Axes>"
      ]
     },
     "metadata": {},
     "output_type": "display_data"
    }
   ],
   "source": [
    "from sklearn.cluster import KMeans\n",
    "from sklearn.decomposition import PCA\n",
    "import matplotlib.pyplot as plt\n",
    "\n",
    "# Initialize K-means with the desired number of clusters\n",
    "num_clusters = 2\n",
    "kmeans = KMeans(n_clusters=num_clusters)\n",
    "\n",
    "# Perform clustering\n",
    "kmeans.fit(BOW_vectors)\n",
    "\n",
    "# Get the cluster labels assigned to each vector\n",
    "cluster_labels = kmeans.labels_\n",
    "\n",
    "# Reduce dimensionality for visualization\n",
    "pca = PCA(n_components=2)\n",
    "reduced_features = pca.fit_transform(BOW_vectors)\n",
    "\n",
    "# Plot the clusters\n",
    "plt.scatter(reduced_features[:, 0], reduced_features[:, 1], c=cluster_labels, cmap='viridis')\n",
    "plt.xlabel('Principal Component 1')\n",
    "plt.ylabel('Principal Component 2')\n",
    "plt.title('Clustering Visualization')\n",
    "plt.show()"
   ]
  },
  {
   "cell_type": "code",
   "execution_count": 133,
   "id": "4416edc2-a0cb-430f-96bc-7c3f1c3feb98",
   "metadata": {},
   "outputs": [
    {
     "name": "stderr",
     "output_type": "stream",
     "text": [
      "C:\\Users\\BiG\\anaconda3\\lib\\site-packages\\sklearn\\cluster\\_kmeans.py:870: FutureWarning: The default value of `n_init` will change from 10 to 'auto' in 1.4. Set the value of `n_init` explicitly to suppress the warning\n",
      "  warnings.warn(\n",
      "C:\\Users\\BiG\\anaconda3\\lib\\site-packages\\sklearn\\cluster\\_kmeans.py:1382: UserWarning: KMeans is known to have a memory leak on Windows with MKL, when there are less chunks than available threads. You can avoid it by setting the environment variable OMP_NUM_THREADS=4.\n",
      "  warnings.warn(\n"
     ]
    },
    {
     "data": {
      "image/png": "[encoded data removed]",
      "text/plain": [
       "<Figure size 640x480 with 1 Axes>"
      ]
     },
     "metadata": {},
     "output_type": "display_data"
    }
   ],
   "source": [
    "from sklearn.cluster import KMeans\n",
    "from sklearn.decomposition import PCA\n",
    "import matplotlib.pyplot as plt\n",
    "\n",
    "# Initialize K-means with the desired number of clusters\n",
    "num_clusters = 7\n",
    "kmeans = KMeans(n_clusters=num_clusters)\n",
    "\n",
    "# Perform clustering\n",
    "kmeans.fit(BOW_vectors)\n",
    "\n",
    "# Get the cluster labels assigned to each vector\n",
    "cluster_labels = kmeans.labels_\n",
    "\n",
    "# Reduce dimensionality for visualization\n",
    "pca = PCA(n_components=2)\n",
    "reduced_features = pca.fit_transform(BOW_vectors)\n",
    "\n",
    "# Plot the clusters\n",
    "plt.scatter(reduced_features[:, 0], reduced_features[:, 1], c=cluster_labels, cmap='viridis')\n",
    "plt.xlabel('Principal Component 1')\n",
    "plt.ylabel('Principal Component 2')\n",
    "plt.title('Clustering Visualization')\n",
    "plt.show()"
   ]
  },
  {
   "cell_type": "markdown",
   "id": "112a82d5-d581-407f-a244-0d3e06e5321a",
   "metadata": {},
   "source": [
    "#### تصمیم بین خوشه بندی روی دادگان آموزش و آزمایش جداگانه یا در کنار هم بستگی به موارد زیر دارد:\n",
    "\n",
    "هدف پروژه: اگر هدف اصلی ما تعیین الگوها و ساختارهای موجود در دادگان است، ممکن است منطقی باشد که خوشه بندی را روی تمام دادگان (آموزش و آزمایش) انجام دهید. این کار به ما امکان می‌دهد تا الگوها و روابط بین داده‌ها را به طور کامل بررسی کنیم.\n",
    "\n",
    "ارزیابی عملکرد: اگر هدف ما ارزیابی دقت و عملکرد الگوریتم خوشه بندی است، می‌توانیم خوشه بندی را روی دادگان آموزش و آزمایش جداگانه انجام دهیم. در این صورت می‌توانیم عملکرد الگوریتم را بر اساس دادگان آزمایش ارزیابی کنیم و به صورت مستقل از دادگان آموزش، دقت و عملکرد را ارزیابی کنیم.\n",
    "\n",
    "پیش‌بینی عملکرد: اگر قصد داریم الگوریتم خوشه بندی را در آینده بر روی دادگان جدید استفاده کنیم، بهتر است خوشه بندی را در کنار هم روی دادگان آموزش و آزمایش انجام دهیم. این کار به ما امکان می‌دهد تا الگوریتم را بر روی دادگان آموزش آموزش دهیم و سپس با استفاده از دادگان آزمایش، عملکرد و پیش‌بینی الگوریتم را ارزیابی کنیم.\n",
    "\n",
    "به طور کلی، استفاده از روش خوشه بندی روی دادگان آموزش و آزمایش جداگانه می‌تواند به ما کمک کند تا عملکرد الگوریتم را بهتر ارزیابی کنیم، در حالی که استفاده از خوشه بندی در کنار هم می‌تواند به ما اطمینان دهد که الگوریتم به طور عملی قابل استفاده است و بر روی دادگان جدید نیز عملکرد خوبی خواهد داشت.\n",
    "بنابراین ما می‌توانیم بگوییم که از انجایی که ما میخواهیم داده ها را به دو دسته تقسیم کنیم یعنی میخواهیم مدل را در اینده برای داده های دیگری استفاده کنیم میتوانیم داده ها را به دو دسته تقسیم کنیم. و بر روی تمام داده ها انجام ندهیم."
   ]
  },
  {
   "cell_type": "markdown",
   "id": "254b12ad-c972-48e6-b130-e5f7a9004034",
   "metadata": {},
   "source": [
    "This code defines a function called select_data_uniformly that takes a matrix of data, a list of cluster labels, and a minimum number of data points (mi) as input, and returns a new matrix of selected data points that includes mi data points from each cluster.\n",
    "\n",
    "The code first imports the numpy library as np, which is a popular library for scientific computing in Python.\n",
    "\n",
    "The select_data_uniformly function then initializes an empty dictionary called clusters, which will be used to separate the data into clusters based on their cluster labels. It iterates over the cluster labels and adds each data point to the corresponding cluster in the clusters dictionary.\n",
    "\n",
    "Next, the function initializes an empty list called selected_data, which will be used to store the selected data points. It then iterates over each cluster in the clusters dictionary and checks the number of data points in the cluster. If the number of data points is less than or equal to the minimum number of data points (mi), all of the data points in the cluster are added to the selected_data list. Otherwise, mi data points are randomly sampled from the cluster using the np.random.choice function and added to the selected_data list.\n",
    "\n",
    "Finally, the function returns the selected_data list, which contains mi data points from each cluster.\n",
    "\n",
    "The code then sets the minimum number of data points (mi) to 10 and calls the select_data_uniformly function with the bag-of-words data matrix (BOW_vectors), the list of cluster labels (cluster_labels), and the minimum number of data points (mi). It prints the new total number of sentences in the dataset (i.e., the length of the selected_data list)."
   ]
  },
  {
   "cell_type": "code",
   "execution_count": 130,
   "id": "f6d53845-5573-4736-8472-73d573e82aa4",
   "metadata": {},
   "outputs": [
    {
     "name": "stdout",
     "output_type": "stream",
     "text": [
      "New total number of sentences in the dataset: 37\n"
     ]
    }
   ],
   "source": [
    "import numpy as np\n",
    "\n",
    "def select_data_uniformly(data, cluster_labels, mi):\n",
    "    clusters = {}\n",
    "    # Separate data into clusters based on cluster_labels\n",
    "    for i, label in enumerate(cluster_labels):\n",
    "        if label not in clusters:\n",
    "            clusters[label] = []\n",
    "        clusters[label].append(data[i])\n",
    "    selected_data = []\n",
    "    for cluster in clusters:\n",
    "        data_points = clusters[cluster]\n",
    "        num_data_points = len(data_points)\n",
    "        if num_data_points <= mi:\n",
    "            selected_data.extend(data_points)\n",
    "        else:\n",
    "            # Randomly sample mi data points from the cluster uniformly\n",
    "            selected_indices = np.random.choice(num_data_points, size=mi, replace=False)\n",
    "            selected_data.extend([data_points[i] for i in selected_indices])\n",
    "    return selected_data\n",
    "\n",
    "mi = 10\n",
    "selected_data = select_data_uniformly(BOW_vectors, cluster_labels, mi)\n",
    "print(\"New total number of sentences in the dataset:\", len(selected_data))\n"
   ]
  },
  {
   "cell_type": "markdown",
   "id": "bc41fbd8-9d10-43ca-9e7b-daacc0c58747",
   "metadata": {},
   "source": [
    "## 2.2.5"
   ]
  },
  {
   "cell_type": "code",
   "execution_count": 23,
   "id": "4b2e6cc6-c03b-4573-ad6e-54ddab2b1eff",
   "metadata": {},
   "outputs": [
    {
     "name": "stdout",
     "output_type": "stream",
     "text": [
      "[==================================================] 100.0% 1662.8/1662.8MB downloaded\n"
     ]
    }
   ],
   "source": [
    "import gensim.downloader as api\n",
    "wv = api.load('word2vec-google-news-300')"
   ]
  },
  {
   "cell_type": "code",
   "execution_count": 24,
   "id": "c502025d-b50e-4f95-9e96-8bef514b473f",
   "metadata": {},
   "outputs": [
    {
     "name": "stdout",
     "output_type": "stream",
     "text": [
      "king\n"
     ]
    }
   ],
   "source": [
    "\n",
    "\n",
    "king_vector = wv['king']\n",
    "man_vector = wv['man']\n",
    "woman_vector = wv['woman']\n",
    "\n",
    "queen_vector = king_vector - man_vector + woman_vector\n",
    "\n",
    "most_similar_word = wv.similar_by_vector(queen_vector, topn=1)[0][0]\n",
    "print(most_similar_word)"
   ]
  },
  {
   "cell_type": "code",
   "execution_count": 60,
   "id": "9f1d5cb9-1326-4fbc-9583-7ec9da50eee5",
   "metadata": {},
   "outputs": [],
   "source": [
    "comments = df['comment'].tolist()"
   ]
  },
  {
   "cell_type": "markdown",
   "id": "238d3da2-8368-4756-8e8e-4a2b1f883df4",
   "metadata": {},
   "source": [
    "This code tokenize comments"
   ]
  },
  {
   "cell_type": "code",
   "execution_count": 61,
   "id": "e77ed37a-8e5e-4fd1-9114-817e66ce7585",
   "metadata": {},
   "outputs": [],
   "source": [
    "from nltk.tokenize import word_tokenize\n",
    "\n",
    "tokenized_comments = [word_tokenize(comment) for comment in comments]"
   ]
  },
  {
   "cell_type": "markdown",
   "id": "0191c2e8-d7f1-481f-9827-31ae4f7248cf",
   "metadata": {},
   "source": [
    "This code converts a list of tokenized comments into a list of corresponding word2vec (w2v) representations using a pre-trained w2v model.\n",
    "\n",
    "The code first initializes an empty list called w2v_comments, which will be used to store the w2v representations of the comments.\n",
    "\n",
    "The code then iterates over each tokenized comment in the tokenized_comments list and initializes an empty list called w2v_comment, which will be used to store the w2v representations of the words in the comment.\n",
    "\n",
    "Next, the code iterates over each word in the tokenized comment and attempts to look up its corresponding w2v representation in a pre-trained w2v model called wv. If the word is not in the vocabulary of the w2v model (i.e., if it raises a KeyError), the code ignores the word and continues to the next word.\n",
    "\n",
    "If the word is in the vocabulary, the code appends its corresponding w2v representation to the w2v_comment list.\n",
    "\n",
    "After iterating over all of the words in the comment, the code appends the w2v_comment list to the w2v_comments list.\n",
    "\n",
    "Finally, the code returns the w2v_comments list, which contains the w2v representations of all of the comments in the tokenized_comments list."
   ]
  },
  {
   "cell_type": "code",
   "execution_count": 62,
   "id": "219c5c51-8403-415f-a155-cec6f3aebbad",
   "metadata": {},
   "outputs": [],
   "source": [
    "w2v_comments = []\n",
    "for comment in tokenized_comments:\n",
    "    w2v_comment = []\n",
    "    for word in comment:\n",
    "        try:\n",
    "            w2v_comment.append(wv[word])\n",
    "        except KeyError:\n",
    "            # Ignore words that are not in the vocabulary\n",
    "            continue\n",
    "    w2v_comments.append(w2v_comment)"
   ]
  },
  {
   "cell_type": "code",
   "execution_count": 63,
   "id": "e82dc11a-1a8f-4c02-86bc-9a08e3f61f22",
   "metadata": {},
   "outputs": [],
   "source": [
    "w2v_comments"
   ]
  },
  {
   "cell_type": "markdown",
   "id": "66b797c4-76af-437d-99aa-f29ba60bdee5",
   "metadata": {},
   "source": [
    "### RNN\n",
    "This code performs sentiment analysis on a small subset of comments using a Simple RNN (Recurrent Neural Network) with pre-trained word embeddings.\n",
    "\n",
    "The code is similar to the previous examples, but replaces the LSTM layer with a Simple RNN layer. The Simple RNN layer is created using the SimpleRNN class from the tensorflow.keras.layers module.\n",
    "\n",
    "A Simple RNN layer is a type of recurrent neural network that processes sequences of input data by applying a transformation to the current input and the previous hidden state to obtain a new hidden state. The output of the RNN layer is typically the final hidden state.\n",
    "\n",
    "The rest of the code is similar to the previous examples, including the loading of pre-trained word embeddings, the conversion of comments to embedding vectors, the splitting of the data into training and testing sets, the definition and compilation of the RNN model, and the training and evaluation of the model."
   ]
  },
  {
   "cell_type": "code",
   "execution_count": 103,
   "id": "371c84e9-2bc7-42e8-bb8b-0975c01ec408",
   "metadata": {},
   "outputs": [
    {
     "name": "stdout",
     "output_type": "stream",
     "text": [
      "1\n",
      "2\n",
      "Epoch 1/5\n",
      "5/5 [==============================] - 168s 19s/step - loss: 0.7620 - accuracy: 0.2083 - val_loss: 0.9900 - val_accuracy: 0.0000e+00\n",
      "Epoch 2/5\n",
      "5/5 [==============================] - 86s 17s/step - loss: 0.7378 - accuracy: 0.1944 - val_loss: 0.8217 - val_accuracy: 0.0000e+00\n",
      "Epoch 3/5\n",
      "5/5 [==============================] - 85s 18s/step - loss: 0.9151 - accuracy: 0.2083 - val_loss: 0.9233 - val_accuracy: 0.0000e+00\n",
      "Epoch 4/5\n",
      "5/5 [==============================] - 91s 18s/step - loss: 0.7204 - accuracy: 0.2500 - val_loss: 0.3770 - val_accuracy: 0.1250\n",
      "Epoch 5/5\n",
      "5/5 [==============================] - 83s 17s/step - loss: 0.4020 - accuracy: 0.2917 - val_loss: -0.1274 - val_accuracy: 0.2500\n",
      "3\n",
      "1/1 [==============================] - 6s 6s/step - loss: 0.2502 - accuracy: 0.3000\n",
      "Test loss: 0.25017833709716797, Test accuracy: 0.30000001192092896\n"
     ]
    }
   ],
   "source": [
    "import numpy as np\n",
    "import pandas as pd\n",
    "import tensorflow as tf\n",
    "from tensorflow.keras.layers import Dense, SimpleRNN\n",
    "from tensorflow.keras.models import Sequential\n",
    "from tensorflow.keras.preprocessing.sequence import pad_sequences\n",
    "from sklearn.model_selection import train_test_split\n",
    "from gensim.models import KeyedVectors\n",
    "\n",
    "decrease_data_c=df['comment'][:100].tolist()\n",
    "decrease_data_l=df['label'][:100].tolist()\n",
    "\n",
    "new_df = pd.DataFrame({'comment': decrease_data_c, 'label': decrease_data_l})\n",
    "\n",
    "# Convert the comments to embedding vectors\n",
    "longest_comment = max(new_df['comment'], key=len)\n",
    "\n",
    "max_length = len(longest_comment)\n",
    "embedding_size = 300\n",
    "\n",
    "def comment_to_vectors(comment):\n",
    "    # Convert the comment to a list of tokens\n",
    "    tokens = comment.lower().split()\n",
    "    # Convert each token to its embedding vector\n",
    "    vectors = []\n",
    "    for token in tokens:\n",
    "        if token in wv:\n",
    "            vectors.append(wv[token])\n",
    "    # Pad the list of vectors to a fixed length\n",
    "    vectors = pad_sequences([vectors], maxlen=max_length, dtype='float32', padding='post', truncating='post')\n",
    "    return vectors[0]\n",
    "\n",
    "new_df['comment_vectors'] = new_df['comment'].apply(comment_to_vectors)\n",
    "\n",
    "# Split the data into training and testing sets\n",
    "X = np.array(new_df['comment_vectors'].to_list())\n",
    "y = new_df['label'].values\n",
    "X_train, X_test, y_train, y_test = train_test_split(X, y, test_size=0.2, random_state=42)\n",
    "\n",
    "# Define the model\n",
    "model = Sequential()\n",
    "model.add(SimpleRNN(units=64, dropout=0.2, recurrent_dropout=0.2, input_shape=(max_length, embedding_size)))\n",
    "model.add(Dense(units=1, activation='sigmoid'))\n",
    "\n",
    "# Compile the model with custom parameters\n",
    "learning_rate = 0.01\n",
    "optimizer = tf.keras.optimizers.Adam(learning_rate=learning_rate)\n",
    "loss = 'binary_crossentropy'\n",
    "metrics = ['accuracy']\n",
    "print('1')\n",
    "model.compile(optimizer=optimizer, loss=loss, metrics=metrics)\n",
    "\n",
    "# Train the model with custom parameters\n",
    "epochs = 5\n",
    "batch_size = 16\n",
    "validation_split = 0.1\n",
    "print('2')\n",
    "model.fit(X_train, y_train, validation_split=validation_split, epochs=epochs, batch_size=batch_size)\n",
    "print('3')\n",
    "# Evaluate the model on the testing set\n",
    "loss, accuracy = model.evaluate(X_test, y_test)\n",
    "print(f'Test loss: {loss}, Test accuracy: {accuracy}')"
   ]
  },
  {
   "cell_type": "markdown",
   "id": "49ae0923-d3bc-4da8-b55f-5172a6347cfd",
   "metadata": {},
   "source": [
    "### Bi-directional RNN\n",
    "This code performs sentiment analysis on a small subset of comments using a bidirectional LSTM neural network with pre-trained word embeddings.\n",
    "\n",
    "The code is similar to the previous example, but replaces the unidirectional LSTM layer with a bidirectional LSTM layer. The bidirectional LSTM layer is created using the Bidirectional wrapper class from the tensorflow.keras.layers module.\n",
    "\n",
    "A bidirectional LSTM layer processes the input sequence in both forward and backward directions, allowing the network to capture context from both past and future time steps. This can improve the performance of the network on tasks that require a more nuanced understanding of the input sequence.\n",
    "\n",
    "The rest of the code is similar to the previous example, including the loading of pre-trained word embeddings, the conversion of comments to embedding vectors, the splitting of the data into training and testing sets, the definition and compilation of the LSTM model, and the training and evaluation of the model."
   ]
  },
  {
   "cell_type": "code",
   "execution_count": 105,
   "id": "36e8405c-5cd0-4cb8-920b-dc137b78c97a",
   "metadata": {},
   "outputs": [],
   "source": [
    "import numpy as np\n",
    "import pandas as pd\n",
    "import tensorflow as tf\n",
    "from tensorflow.keras.layers import Dense, Bidirectional, LSTM\n",
    "from tensorflow.keras.models import Sequential\n",
    "from tensorflow.keras.preprocessing.sequence import pad_sequences\n",
    "from sklearn.model_selection import train_test_split\n",
    "from gensim.models import KeyedVectors\n",
    "\n",
    "decrease_data_c = df['comment'][:100].tolist()\n",
    "decrease_data_l = df['label'][:100].tolist()\n",
    "\n",
    "new_df = pd.DataFrame({'comment': decrease_data_c, 'label': decrease_data_l})\n",
    "\n",
    "# Load the pre-trained Google News word embeddings\n",
    "\n",
    "# Convert the comments to embedding vectors\n",
    "longest_comment = max(new_df['comment'], key=len)\n",
    "max_length = len(longest_comment)\n",
    "embedding_size = 300\n",
    "\n",
    "def comment_to_vectors(comment):\n",
    "    # Convert the comment to a list of tokens\n",
    "    tokens = comment.lower().split()\n",
    "    # Convert each token to its embedding vector\n",
    "    vectors = []\n",
    "    for token in tokens:\n",
    "        if token in wv:\n",
    "            vectors.append(wv[token])\n",
    "    # Pad the list of vectors to a fixed length\n",
    "    vectors = pad_sequences([vectors], maxlen=max_length, dtype='float32', padding='post', truncating='post')\n",
    "    return vectors[0]\n",
    "\n",
    "new_df['comment_vectors'] = new_df['comment'].apply(comment_to_vectors)\n",
    "\n",
    "# Split the data into training and testing sets\n",
    "X = np.array(new_df['comment_vectors'].to_list())\n",
    "y = new_df['label'].values\n",
    "X_train, X_test, y_train, y_test = train_test_split(X, y, test_size=0.2, random_state=42)\n",
    "\n",
    "# Define the model\n",
    "model = Sequential()\n",
    "model.add(Bidirectional(LSTM(units=64, dropout=0.2, recurrent_dropout=0.2), input_shape=(max_length, embedding_size)))\n",
    "model.add(Dense(units=1, activation='sigmoid'))\n",
    "\n",
    "# Compile the model with custom parameters\n",
    "learning_rate = 0.01\n",
    "optimizer = tf.keras.optimizers.Adam(learning_rate=learning_rate)\n",
    "loss = 'binary_crossentropy'\n",
    "metrics = ['accuracy']\n",
    "model.compile(optimizer=optimizer, loss=loss, metrics=metrics)\n",
    "\n",
    "# Train the model with custom parameters\n",
    "epochs = 5\n",
    "batch_size = 16\n",
    "validation_split = 0.1\n",
    "model.fit(X_train, y_train, validation_split=validation_split, epochs=epochs, batch_size=batch_size)\n",
    "\n",
    "# Evaluate the model on the testing set\n",
    "loss, accuracy = model.evaluate(X_test, y_test)\n",
    "print(f'Test loss: {loss}, Test accuracy: {accuracy}')"
   ]
  },
  {
   "cell_type": "code",
   "execution_count": null,
   "id": "bcedc060-c867-4d7f-8e0a-73f34767ddf5",
   "metadata": {},
   "outputs": [
    {
     "name": "stdout",
     "output_type": "stream",
     "text": [
      "Epoch 1/5\n",
      "5/5 [==============================] - 1302s 255s/step - loss: -2.0000 - accuracy: 0.4028 - val_loss: -7.7914 - val_accuracy: 0.3750\n",
      "Epoch 2/5\n",
      "5/5 [==============================] - 1475s 324s/step - loss: -9.1311 - accuracy: 0.4306 - val_loss: -13.3634 - val_accuracy: 0.3750\n",
      "Epoch 3/5\n",
      "5/5 [==============================] - 1253s 261s/step - loss: -13.4944 - accuracy: 0.4306 - val_loss: -17.5856 - val_accuracy: 0.3750\n",
      "Epoch 4/5\n",
      "5/5 [==============================] - 1261s 258s/step - loss: -17.2813 - accuracy: 0.4306 - val_loss: -21.6182 - val_accuracy: 0.3750\n",
      "Epoch 5/5\n",
      "5/5 [==============================] - 736s 147s/step - loss: -20.9878 - accuracy: 0.4306 - val_loss: -25.6660 - val_accuracy: 0.3750\n",
      "1/1 [==============================] - 41s 41s/step - loss: -26.6931 - accuracy: 0.3500\n",
      "Test loss: -26.693096160888672, Test accuracy: 0.3499999940395355\n",
      "1/1 [==============================] - 58s 58s/step\n",
      "                    comment  label\n",
      "0     This movie was great!      1\n",
      "1  This movie was terrible.      1\n"
     ]
    }
   ],
   "source": []
  },
  {
   "cell_type": "markdown",
   "id": "252c2646-e28b-448d-8bb7-1ef104e2e4f9",
   "metadata": {},
   "source": [
    "### LSTM\n",
    "This code performs sentiment analysis on a small subset of comments using a Long Short-Term Memory (LSTM) neural network with pre-trained word embeddings.\n",
    "\n",
    "The code assumes that the comments and their corresponding sentiment labels are stored in a Pandas DataFrame called df. It first selects a subset of 100 comments and their labels from the original DataFrame and creates a new DataFrame with these data points.\n",
    "\n",
    "The code then loads pre-trained word embeddings from a file using the KeyedVectors class from the gensim library. The word embeddings are typically trained on a large corpus of text data and encode each word as a dense vector in a high-dimensional space.\n",
    "\n",
    "For each comment in the new DataFrame, the code converts the comment to a list of tokens, and then converts each token to its corresponding word embedding vector using the pre-trained embeddings. The resulting vectors are then padded to a fixed length using the pad_sequences function from the tensorflow.keras.preprocessing.sequence module.\n",
    "\n",
    "The resulting list of padded vectors is added as a new column to the DataFrame.\n",
    "\n",
    "The code then splits the data into training and testing sets using the train_test_split function from the sklearn.model_selection module, and defines an LSTM neural network with custom parameters using the Sequential class from the tensorflow.keras.models module.\n",
    "\n",
    "The LSTM network consists of one LSTM layer with 64 units, followed by a dense output layer with one unit and a sigmoid activation function. The network is compiled with custom parameters including a learning rate of 0.01, the Adam optimizer, binary cross-entropy loss, and accuracy metrics.\n",
    "\n",
    "The network is trained on the training data with custom parameters including 5 epochs, a batch size of 16, and a validation split of 0.1. The trained network is then evaluated on the testing data using the evaluate method of the model object.\n",
    "\n",
    "The code prints the test loss and test accuracy of the trained model."
   ]
  },
  {
   "cell_type": "code",
   "execution_count": 106,
   "id": "cd9925d2-969f-4f75-9c1b-5021d270a910",
   "metadata": {},
   "outputs": [
    {
     "name": "stdout",
     "output_type": "stream",
     "text": [
      "Epoch 1/5\n",
      "5/5 [==============================] - 387s 78s/step - loss: -0.9923 - accuracy: 0.3056 - val_loss: -5.0628 - val_accuracy: 0.3750\n",
      "Epoch 2/5\n",
      "5/5 [==============================] - 384s 76s/step - loss: -5.7493 - accuracy: 0.4306 - val_loss: -8.3858 - val_accuracy: 0.3750\n",
      "Epoch 3/5\n",
      "5/5 [==============================] - 401s 83s/step - loss: -8.2977 - accuracy: 0.4306 - val_loss: -10.4455 - val_accuracy: 0.3750\n",
      "Epoch 4/5\n",
      "5/5 [==============================] - 384s 78s/step - loss: -10.1265 - accuracy: 0.4306 - val_loss: -12.4676 - val_accuracy: 0.3750\n",
      "Epoch 5/5\n",
      "5/5 [==============================] - 581s 125s/step - loss: -12.0100 - accuracy: 0.4306 - val_loss: -14.4852 - val_accuracy: 0.3750\n",
      "1/1 [==============================] - 40s 40s/step - loss: -15.0647 - accuracy: 0.3500\n",
      "Test loss: -15.064653396606445, Test accuracy: 0.3499999940395355\n",
      "1/1 [==============================] - 45s 45s/step\n",
      "                    comment  label\n",
      "0     This movie was great!      1\n",
      "1  This movie was terrible.      1\n"
     ]
    }
   ],
   "source": [
    "import numpy as np\n",
    "import pandas as pd\n",
    "import tensorflow as tf\n",
    "from tensorflow.keras.layers import Dense, LSTM\n",
    "from tensorflow.keras.models import Sequential\n",
    "from tensorflow.keras.preprocessing.sequence import pad_sequences\n",
    "from sklearn.model_selection import train_test_split\n",
    "from gensim.models import KeyedVectors\n",
    "\n",
    "decrease_data_c = df['comment'][:100].tolist()\n",
    "decrease_data_l = df['label'][:100].tolist()\n",
    "\n",
    "new_df = pd.DataFrame({'comment': decrease_data_c, 'label': decrease_data_l})\n",
    "\n",
    "# Load the pre-trained Google News word embeddings\n",
    "\n",
    "# Convert the comments to embedding vectors\n",
    "longest_comment = max(new_df['comment'], key=len)\n",
    "max_length = len(longest_comment)\n",
    "embedding_size = 300\n",
    "\n",
    "def comment_to_vectors(comment):\n",
    "    # Convert the comment to a list of tokens\n",
    "    tokens = comment.lower().split()\n",
    "    # Convert each token to its embedding vector\n",
    "    vectors = []\n",
    "    for token in tokens:\n",
    "        if token in wv:\n",
    "            vectors.append(wv[token])\n",
    "    # Pad the list of vectors to a fixed length\n",
    "    vectors = pad_sequences([vectors], maxlen=max_length, dtype='float32', padding='post', truncating='post')\n",
    "    return vectors[0]\n",
    "\n",
    "new_df['comment_vectors'] = new_df['comment'].apply(comment_to_vectors)\n",
    "\n",
    "# Split the data into training and testing sets\n",
    "X = np.array(new_df['comment_vectors'].to_list())\n",
    "y = new_df['label'].values\n",
    "X_train, X_test, y_train, y_test = train_test_split(X, y, test_size=0.2, random_state=42)\n",
    "\n",
    "# Define the model\n",
    "model = Sequential()\n",
    "model.add(LSTM(units=64, dropout=0.2, recurrent_dropout=0.2, input_shape=(max_length, embedding_size)))\n",
    "model.add(Dense(units=1, activation='sigmoid'))\n",
    "\n",
    "# Compile the model with custom parameters\n",
    "learning_rate = 0.01\n",
    "optimizer = tf.keras.optimizers.Adam(learning_rate=learning_rate)\n",
    "loss = 'binary_crossentropy'\n",
    "metrics = ['accuracy']\n",
    "model.compile(optimizer=optimizer, loss=loss, metrics=metrics)\n",
    "\n",
    "# Train the model with custom parameters\n",
    "epochs = 5\n",
    "batch_size = 16\n",
    "validation_split = 0.1\n",
    "model.fit(X_train, y_train, validation_split=validation_split, epochs=epochs, batch_size=batch_size)\n",
    "\n",
    "# Evaluate the model on the testing set\n",
    "loss, accuracy = model.evaluate(X_test, y_test)\n",
    "print(f'Test loss: {loss}, Test accuracy: {accuracy}')\n",
    "\n"
   ]
  },
  {
   "cell_type": "code",
   "execution_count": null,
   "id": "dce9ca69-7f8f-4470-84d5-2b6ca677bab2",
   "metadata": {},
   "outputs": [],
   "source": []
  }
 ],
 "metadata": {
  "colab": {
   "gpuType": "T4",
   "provenance": []
  },
  "kernelspec": {
   "display_name": "Python 3 (ipykernel)",
   "language": "python",
   "name": "python3"
  },
  "language_info": {
   "codemirror_mode": {
    "name": "ipython",
    "version": 3
   },
   "file_extension": ".py",
   "mimetype": "text/x-python",
   "name": "python",
   "nbconvert_exporter": "python",
   "pygments_lexer": "ipython3",
   "version": "3.10.9"
  }
 },
 "nbformat": 4,
 "nbformat_minor": 5
}
